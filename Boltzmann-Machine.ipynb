{
 "cells": [
  {
   "cell_type": "markdown",
   "metadata": {},
   "source": [
    "This notebook is based on [Quantum Boltzmann Machine (M. H. Amin, et al., 2018)](https://journals.aps.org/prx/abstract/10.1103/PhysRevX.8.021050).\n",
    "\n",
    "Code is referenced from [mareksubocz/QRBM](https://github.com/mareksubocz/QRBM)."
   ]
  },
  {
   "cell_type": "code",
   "execution_count": 1,
   "metadata": {},
   "outputs": [
    {
     "name": "stdout",
     "output_type": "stream",
     "text": [
      "/home/r09222027/GitHub/QBM\n"
     ]
    }
   ],
   "source": [
    "cd /home/r09222027/GitHub/QBM/"
   ]
  },
  {
   "cell_type": "code",
   "execution_count": 2,
   "metadata": {},
   "outputs": [],
   "source": [
    "import numpy as np\n",
    "import math\n",
    "import matplotlib.pyplot as plt\n",
    "import torch\n",
    "from torch.utils.data import Dataset, DataLoader\n",
    "from tqdm import tqdm\n",
    "%matplotlib inline\n",
    "\n",
    "from multiprocessing import Pool\n",
    "import os\n",
    "pool = Pool(os.cpu_count())"
   ]
  },
  {
   "cell_type": "markdown",
   "metadata": {},
   "source": [
    "# Dataset Generation"
   ]
  },
  {
   "cell_type": "code",
   "execution_count": 3,
   "metadata": {},
   "outputs": [],
   "source": [
    "class RandomVectorDataset(Dataset):\n",
    "    \"\"\"\n",
    "    Create a random boolean vector dataset with multiple modes, each centered at a (random generated) centerpoint with success probability p.\n",
    "    \"\"\"\n",
    "    def __init__(self, N, modes, p, dataset_size, sd=None):\n",
    "        super().__init__()\n",
    "\n",
    "        np.random.seed(sd)\n",
    "        center_lst = []\n",
    "        dataset_lst = []\n",
    "        for mode in range(modes):\n",
    "            s = np.random.binomial(1, 0.5, N)\n",
    "            center_lst.append(2*s - 1)\n",
    "            # dataset_lst.append([])\n",
    "            for _ in range(dataset_size):\n",
    "                data = 2*(np.random.binomial(1, p, N) == s) - 1\n",
    "                # dataset_lst[-1].append(data)\n",
    "                dataset_lst.append(data)\n",
    "\n",
    "        self.N = N\n",
    "        self.p = p\n",
    "        self.centers = center_lst\n",
    "        self.samples = dataset_lst\n",
    "\n",
    "    def __len__(self):\n",
    "        return len(self.samples)\n",
    "\n",
    "    def __getitem__(self, idx):\n",
    "        return self.samples[idx]\n",
    "    \n",
    "    def get_prob(self, state):\n",
    "        prob = 0\n",
    "        for c in self.centers:\n",
    "            hamming_dist = np.sum(np.abs(c - state)) / 2\n",
    "            prob += self.p**(self.N - hamming_dist) * (1 - self.p)**hamming_dist\n",
    "        prob /= len(self.centers)\n",
    "        return prob"
   ]
  },
  {
   "cell_type": "code",
   "execution_count": 4,
   "metadata": {},
   "outputs": [
    {
     "data": {
      "text/plain": [
       "[array([ 1,  1,  1,  1, -1])]"
      ]
     },
     "execution_count": 4,
     "metadata": {},
     "output_type": "execute_result"
    }
   ],
   "source": [
    "N = 5\n",
    "modes = 1\n",
    "p = 0.9\n",
    "dataset_size = 100\n",
    "seed = 0\n",
    "\n",
    "dataset = RandomVectorDataset(N, modes, p, dataset_size, seed)\n",
    "dataset.centers"
   ]
  },
  {
   "cell_type": "code",
   "execution_count": 5,
   "metadata": {},
   "outputs": [],
   "source": [
    "dataloader = DataLoader(dataset, batch_size=10, shuffle=True, num_workers=0)"
   ]
  },
  {
   "cell_type": "markdown",
   "metadata": {},
   "source": [
    "# Training Sessions"
   ]
  },
  {
   "cell_type": "markdown",
   "metadata": {},
   "source": [
    "lr=0.11"
   ]
  },
  {
   "cell_type": "code",
   "execution_count": 267,
   "metadata": {},
   "outputs": [
    {
     "name": "stdout",
     "output_type": "stream",
     "text": [
      "Batch: 1/10\n"
     ]
    },
    {
     "name": "stderr",
     "output_type": "stream",
     "text": [
      "100%|██████████| 10/10 [00:04<00:00,  2.39it/s]\n"
     ]
    },
    {
     "name": "stdout",
     "output_type": "stream",
     "text": [
      "Batch: 2/10\n"
     ]
    },
    {
     "name": "stderr",
     "output_type": "stream",
     "text": [
      "100%|██████████| 10/10 [00:06<00:00,  1.55it/s]\n"
     ]
    },
    {
     "name": "stdout",
     "output_type": "stream",
     "text": [
      "Batch: 3/10\n"
     ]
    },
    {
     "name": "stderr",
     "output_type": "stream",
     "text": [
      "100%|██████████| 10/10 [00:04<00:00,  2.21it/s]\n"
     ]
    },
    {
     "name": "stdout",
     "output_type": "stream",
     "text": [
      "Batch: 4/10\n"
     ]
    },
    {
     "name": "stderr",
     "output_type": "stream",
     "text": [
      "100%|██████████| 10/10 [00:04<00:00,  2.36it/s]\n"
     ]
    },
    {
     "name": "stdout",
     "output_type": "stream",
     "text": [
      "Batch: 5/10\n"
     ]
    },
    {
     "name": "stderr",
     "output_type": "stream",
     "text": [
      "100%|██████████| 10/10 [00:04<00:00,  2.46it/s]\n"
     ]
    },
    {
     "name": "stdout",
     "output_type": "stream",
     "text": [
      "Batch: 6/10\n"
     ]
    },
    {
     "name": "stderr",
     "output_type": "stream",
     "text": [
      "100%|██████████| 10/10 [00:04<00:00,  2.24it/s]\n"
     ]
    },
    {
     "name": "stdout",
     "output_type": "stream",
     "text": [
      "Batch: 7/10\n"
     ]
    },
    {
     "name": "stderr",
     "output_type": "stream",
     "text": [
      "100%|██████████| 10/10 [00:09<00:00,  1.07it/s]\n"
     ]
    },
    {
     "name": "stdout",
     "output_type": "stream",
     "text": [
      "Batch: 8/10\n"
     ]
    },
    {
     "name": "stderr",
     "output_type": "stream",
     "text": [
      "100%|██████████| 10/10 [00:05<00:00,  1.76it/s]\n"
     ]
    },
    {
     "name": "stdout",
     "output_type": "stream",
     "text": [
      "Batch: 9/10\n"
     ]
    },
    {
     "name": "stderr",
     "output_type": "stream",
     "text": [
      "100%|██████████| 10/10 [00:06<00:00,  1.51it/s]\n"
     ]
    },
    {
     "name": "stdout",
     "output_type": "stream",
     "text": [
      "Batch: 10/10\n"
     ]
    },
    {
     "name": "stderr",
     "output_type": "stream",
     "text": [
      "100%|██████████| 10/10 [00:05<00:00,  1.87it/s]\n"
     ]
    }
   ],
   "source": [
    "qbm0 = QBM(5, 2, rng_sd=0)\n",
    "qbm0.train(dataset, data_prob=dataset.get_prob, lr=0.11)"
   ]
  },
  {
   "cell_type": "code",
   "execution_count": 268,
   "metadata": {},
   "outputs": [
    {
     "data": {
      "text/plain": [
       "[<matplotlib.lines.Line2D at 0x7b138f0d48>]"
      ]
     },
     "execution_count": 268,
     "metadata": {},
     "output_type": "execute_result"
    },
    {
     "data": {
      "image/png": "[encoded data removed]",
      "text/plain": [
       "<Figure size 900x600 with 1 Axes>"
      ]
     },
     "metadata": {
      "needs_background": "light"
     },
     "output_type": "display_data"
    }
   ],
   "source": [
    "plt.figure(dpi=150)\n",
    "plt.title('KL divergence')\n",
    "plt.plot(qbm0.KL_history)"
   ]
  },
  {
   "cell_type": "code",
   "execution_count": 269,
   "metadata": {},
   "outputs": [
    {
     "name": "stderr",
     "output_type": "stream",
     "text": [
      "100%|██████████| 100/100 [00:50<00:00,  1.97it/s]\n"
     ]
    }
   ],
   "source": [
    "sample_states = []\n",
    "for _ in tqdm(range(100)):\n",
    "    sample_states.append(np.sign(qbm0.sample(qbm0.w, qbm0.b, qbm0.M, num=1)[:-2]))"
   ]
  },
  {
   "cell_type": "code",
   "execution_count": 270,
   "metadata": {},
   "outputs": [],
   "source": [
    "histo_cat = []\n",
    "histo_data = []\n",
    "for v in sample_states:\n",
    "    for s in histo_cat:\n",
    "        if  s == str(v):\n",
    "            histo_data[histo_cat.index(s)] += 1\n",
    "            break\n",
    "    else:\n",
    "        histo_cat.append(str(v))\n",
    "        histo_data.append(1)"
   ]
  },
  {
   "cell_type": "code",
   "execution_count": 271,
   "metadata": {},
   "outputs": [
    {
     "data": {
      "text/plain": [
       "<BarContainer object of 2 artists>"
      ]
     },
     "execution_count": 271,
     "metadata": {},
     "output_type": "execute_result"
    },
    {
     "data": {
      "image/png": "[encoded data removed]",
      "text/plain": [
       "<Figure size 900x600 with 1 Axes>"
      ]
     },
     "metadata": {
      "needs_background": "light"
     },
     "output_type": "display_data"
    }
   ],
   "source": [
    "plt.figure(dpi=150)\n",
    "plt.title('QBM')\n",
    "plt.xticks(rotation=45)\n",
    "plt.bar(histo_cat, histo_data)"
   ]
  },
  {
   "cell_type": "markdown",
   "metadata": {},
   "source": [
    "lr=0.033"
   ]
  },
  {
   "cell_type": "code",
   "execution_count": 183,
   "metadata": {},
   "outputs": [
    {
     "name": "stdout",
     "output_type": "stream",
     "text": [
      "Batch: 1/10\n"
     ]
    },
    {
     "name": "stderr",
     "output_type": "stream",
     "text": [
      "100%|██████████| 10/10 [00:04<00:00,  2.49it/s]\n"
     ]
    },
    {
     "name": "stdout",
     "output_type": "stream",
     "text": [
      "Batch: 2/10\n"
     ]
    },
    {
     "name": "stderr",
     "output_type": "stream",
     "text": [
      "100%|██████████| 10/10 [00:03<00:00,  2.64it/s]\n"
     ]
    },
    {
     "name": "stdout",
     "output_type": "stream",
     "text": [
      "Batch: 3/10\n"
     ]
    },
    {
     "name": "stderr",
     "output_type": "stream",
     "text": [
      "100%|██████████| 10/10 [00:03<00:00,  2.78it/s]\n"
     ]
    },
    {
     "name": "stdout",
     "output_type": "stream",
     "text": [
      "Batch: 4/10\n"
     ]
    },
    {
     "name": "stderr",
     "output_type": "stream",
     "text": [
      "100%|██████████| 10/10 [00:04<00:00,  2.28it/s]\n"
     ]
    },
    {
     "name": "stdout",
     "output_type": "stream",
     "text": [
      "Batch: 5/10\n"
     ]
    },
    {
     "name": "stderr",
     "output_type": "stream",
     "text": [
      "100%|██████████| 10/10 [00:04<00:00,  2.32it/s]\n"
     ]
    },
    {
     "name": "stdout",
     "output_type": "stream",
     "text": [
      "Batch: 6/10\n"
     ]
    },
    {
     "name": "stderr",
     "output_type": "stream",
     "text": [
      "100%|██████████| 10/10 [00:03<00:00,  3.02it/s]\n"
     ]
    },
    {
     "name": "stdout",
     "output_type": "stream",
     "text": [
      "Batch: 7/10\n"
     ]
    },
    {
     "name": "stderr",
     "output_type": "stream",
     "text": [
      "100%|██████████| 10/10 [00:09<00:00,  1.03it/s]\n"
     ]
    },
    {
     "name": "stdout",
     "output_type": "stream",
     "text": [
      "Batch: 8/10\n"
     ]
    },
    {
     "name": "stderr",
     "output_type": "stream",
     "text": [
      "100%|██████████| 10/10 [00:04<00:00,  2.47it/s]\n"
     ]
    },
    {
     "name": "stdout",
     "output_type": "stream",
     "text": [
      "Batch: 9/10\n"
     ]
    },
    {
     "name": "stderr",
     "output_type": "stream",
     "text": [
      "100%|██████████| 10/10 [00:04<00:00,  2.50it/s]\n"
     ]
    },
    {
     "name": "stdout",
     "output_type": "stream",
     "text": [
      "Batch: 10/10\n"
     ]
    },
    {
     "name": "stderr",
     "output_type": "stream",
     "text": [
      "100%|██████████| 10/10 [00:04<00:00,  2.40it/s]\n"
     ]
    }
   ],
   "source": [
    "qbm1 = QBM(5, 2, rng_sd=0)\n",
    "qbm1.train(dataset, data_prob=dataset.get_prob, lr=0.033)"
   ]
  },
  {
   "cell_type": "code",
   "execution_count": 184,
   "metadata": {},
   "outputs": [
    {
     "data": {
      "text/plain": [
       "[<matplotlib.lines.Line2D at 0x7b0e65f488>]"
      ]
     },
     "execution_count": 184,
     "metadata": {},
     "output_type": "execute_result"
    },
    {
     "data": {
      "image/png": "[encoded data removed]",
      "text/plain": [
       "<Figure size 900x600 with 1 Axes>"
      ]
     },
     "metadata": {
      "needs_background": "light"
     },
     "output_type": "display_data"
    }
   ],
   "source": [
    "plt.figure(dpi=150)\n",
    "plt.title('KL divergence')\n",
    "plt.plot(qbm1.KL_history)"
   ]
  },
  {
   "cell_type": "code",
   "execution_count": 185,
   "metadata": {},
   "outputs": [
    {
     "name": "stderr",
     "output_type": "stream",
     "text": [
      "100%|██████████| 100/100 [00:26<00:00,  3.83it/s]\n"
     ]
    }
   ],
   "source": [
    "sample_states = []\n",
    "for _ in tqdm(range(100)):\n",
    "    sample_states.append(np.sign(qbm1.sample(qbm1.w, qbm1.b, qbm1.M, num=1)[:-2]))"
   ]
  },
  {
   "cell_type": "code",
   "execution_count": 186,
   "metadata": {},
   "outputs": [],
   "source": [
    "histo_cat = []\n",
    "histo_data = []\n",
    "for v in sample_states:\n",
    "    for s in histo_cat:\n",
    "        if  s == str(v):\n",
    "            histo_data[histo_cat.index(s)] += 1\n",
    "            break\n",
    "    else:\n",
    "        histo_cat.append(str(v))\n",
    "        histo_data.append(1)"
   ]
  },
  {
   "cell_type": "code",
   "execution_count": 188,
   "metadata": {},
   "outputs": [
    {
     "data": {
      "text/plain": [
       "<BarContainer object of 6 artists>"
      ]
     },
     "execution_count": 188,
     "metadata": {},
     "output_type": "execute_result"
    },
    {
     "data": {
      "image/png": "[encoded data removed]",
      "text/plain": [
       "<Figure size 900x600 with 1 Axes>"
      ]
     },
     "metadata": {
      "needs_background": "light"
     },
     "output_type": "display_data"
    }
   ],
   "source": [
    "plt.figure(dpi=150)\n",
    "plt.title('QBM')\n",
    "plt.xticks(rotation=45)\n",
    "plt.bar(histo_cat, histo_data)"
   ]
  },
  {
   "cell_type": "markdown",
   "metadata": {},
   "source": [
    "lr = 0.075, lr_decay = 0.25"
   ]
  },
  {
   "cell_type": "code",
   "execution_count": 262,
   "metadata": {},
   "outputs": [
    {
     "name": "stdout",
     "output_type": "stream",
     "text": [
      "Batch: 1/10\n"
     ]
    },
    {
     "name": "stderr",
     "output_type": "stream",
     "text": [
      "100%|██████████| 10/10 [00:04<00:00,  2.31it/s]\n"
     ]
    },
    {
     "name": "stdout",
     "output_type": "stream",
     "text": [
      "Batch: 2/10\n"
     ]
    },
    {
     "name": "stderr",
     "output_type": "stream",
     "text": [
      "100%|██████████| 10/10 [00:06<00:00,  1.59it/s]\n"
     ]
    },
    {
     "name": "stdout",
     "output_type": "stream",
     "text": [
      "Batch: 3/10\n"
     ]
    },
    {
     "name": "stderr",
     "output_type": "stream",
     "text": [
      "100%|██████████| 10/10 [00:04<00:00,  2.03it/s]\n"
     ]
    },
    {
     "name": "stdout",
     "output_type": "stream",
     "text": [
      "Batch: 4/10\n"
     ]
    },
    {
     "name": "stderr",
     "output_type": "stream",
     "text": [
      "100%|██████████| 10/10 [00:04<00:00,  2.14it/s]\n"
     ]
    },
    {
     "name": "stdout",
     "output_type": "stream",
     "text": [
      "Batch: 5/10\n"
     ]
    },
    {
     "name": "stderr",
     "output_type": "stream",
     "text": [
      "100%|██████████| 10/10 [00:07<00:00,  1.41it/s]\n"
     ]
    },
    {
     "name": "stdout",
     "output_type": "stream",
     "text": [
      "Batch: 6/10\n"
     ]
    },
    {
     "name": "stderr",
     "output_type": "stream",
     "text": [
      "100%|██████████| 10/10 [00:06<00:00,  1.62it/s]\n"
     ]
    },
    {
     "name": "stdout",
     "output_type": "stream",
     "text": [
      "Batch: 7/10\n"
     ]
    },
    {
     "name": "stderr",
     "output_type": "stream",
     "text": [
      "100%|██████████| 10/10 [00:05<00:00,  1.74it/s]\n"
     ]
    },
    {
     "name": "stdout",
     "output_type": "stream",
     "text": [
      "Batch: 8/10\n"
     ]
    },
    {
     "name": "stderr",
     "output_type": "stream",
     "text": [
      "100%|██████████| 10/10 [00:05<00:00,  1.96it/s]\n"
     ]
    },
    {
     "name": "stdout",
     "output_type": "stream",
     "text": [
      "Batch: 9/10\n"
     ]
    },
    {
     "name": "stderr",
     "output_type": "stream",
     "text": [
      "100%|██████████| 10/10 [00:05<00:00,  1.92it/s]\n"
     ]
    },
    {
     "name": "stdout",
     "output_type": "stream",
     "text": [
      "Batch: 10/10\n"
     ]
    },
    {
     "name": "stderr",
     "output_type": "stream",
     "text": [
      "100%|██████████| 10/10 [00:05<00:00,  1.97it/s]\n"
     ]
    }
   ],
   "source": [
    "qbm2 = QBM(5, 2, rng_sd=2)\n",
    "qbm2.train(dataset, data_prob=dataset.get_prob, lr=0.075, lr_decay=0.25)"
   ]
  },
  {
   "cell_type": "code",
   "execution_count": 263,
   "metadata": {},
   "outputs": [
    {
     "data": {
      "text/plain": [
       "[<matplotlib.lines.Line2D at 0x7b137c94c8>]"
      ]
     },
     "execution_count": 263,
     "metadata": {},
     "output_type": "execute_result"
    },
    {
     "data": {
      "image/png": "[encoded data removed]",
      "text/plain": [
       "<Figure size 900x600 with 1 Axes>"
      ]
     },
     "metadata": {
      "needs_background": "light"
     },
     "output_type": "display_data"
    }
   ],
   "source": [
    "plt.figure(dpi=150)\n",
    "plt.title('KL divergence')\n",
    "plt.plot(qbm2.KL_history)"
   ]
  },
  {
   "cell_type": "code",
   "execution_count": 264,
   "metadata": {},
   "outputs": [
    {
     "name": "stderr",
     "output_type": "stream",
     "text": [
      "100%|██████████| 100/100 [00:24<00:00,  4.03it/s]\n"
     ]
    }
   ],
   "source": [
    "sample_states = []\n",
    "for _ in tqdm(range(100)):\n",
    "    sample_states.append(np.sign(qbm1.sample(qbm2.w, qbm2.b, qbm2.M, num=1)[:-2]))"
   ]
  },
  {
   "cell_type": "code",
   "execution_count": 265,
   "metadata": {},
   "outputs": [],
   "source": [
    "histo_cat = []\n",
    "histo_data = []\n",
    "for v in sample_states:\n",
    "    for s in histo_cat:\n",
    "        if  s == str(v):\n",
    "            histo_data[histo_cat.index(s)] += 1\n",
    "            break\n",
    "    else:\n",
    "        histo_cat.append(str(v))\n",
    "        histo_data.append(1)"
   ]
  },
  {
   "cell_type": "code",
   "execution_count": 266,
   "metadata": {},
   "outputs": [
    {
     "data": {
      "text/plain": [
       "<BarContainer object of 12 artists>"
      ]
     },
     "execution_count": 266,
     "metadata": {},
     "output_type": "execute_result"
    },
    {
     "data": {
      "image/png": "[encoded data removed]",
      "text/plain": [
       "<Figure size 900x600 with 1 Axes>"
      ]
     },
     "metadata": {
      "needs_background": "light"
     },
     "output_type": "display_data"
    }
   ],
   "source": [
    "plt.figure(dpi=150)\n",
    "plt.title('QBM')\n",
    "plt.xticks(rotation=45)\n",
    "plt.bar(histo_cat, histo_data)"
   ]
  },
  {
   "cell_type": "markdown",
   "metadata": {},
   "source": [
    "## L1 regularization (smaller for b, larger for w)"
   ]
  },
  {
   "cell_type": "code",
   "execution_count": 9,
   "metadata": {},
   "outputs": [
    {
     "name": "stdout",
     "output_type": "stream",
     "text": [
      "Batch: 1/10\n"
     ]
    },
    {
     "name": "stderr",
     "output_type": "stream",
     "text": [
      "100%|██████████| 10/10 [00:00<00:00, 10.89it/s]\n"
     ]
    },
    {
     "name": "stdout",
     "output_type": "stream",
     "text": [
      "Batch: 2/10\n"
     ]
    },
    {
     "name": "stderr",
     "output_type": "stream",
     "text": [
      "100%|██████████| 10/10 [00:00<00:00, 10.89it/s]\n"
     ]
    },
    {
     "name": "stdout",
     "output_type": "stream",
     "text": [
      "Batch: 3/10\n"
     ]
    },
    {
     "name": "stderr",
     "output_type": "stream",
     "text": [
      "100%|██████████| 10/10 [00:00<00:00, 11.16it/s]\n"
     ]
    },
    {
     "name": "stdout",
     "output_type": "stream",
     "text": [
      "Batch: 4/10\n"
     ]
    },
    {
     "name": "stderr",
     "output_type": "stream",
     "text": [
      "100%|██████████| 10/10 [00:00<00:00, 11.36it/s]\n"
     ]
    },
    {
     "name": "stdout",
     "output_type": "stream",
     "text": [
      "Batch: 5/10\n"
     ]
    },
    {
     "name": "stderr",
     "output_type": "stream",
     "text": [
      "100%|██████████| 10/10 [00:00<00:00, 13.05it/s]\n"
     ]
    },
    {
     "name": "stdout",
     "output_type": "stream",
     "text": [
      "Batch: 6/10\n"
     ]
    },
    {
     "name": "stderr",
     "output_type": "stream",
     "text": [
      "100%|██████████| 10/10 [00:00<00:00, 12.44it/s]\n"
     ]
    },
    {
     "name": "stdout",
     "output_type": "stream",
     "text": [
      "Batch: 7/10\n"
     ]
    },
    {
     "name": "stderr",
     "output_type": "stream",
     "text": [
      "100%|██████████| 10/10 [00:00<00:00, 12.52it/s]\n"
     ]
    },
    {
     "name": "stdout",
     "output_type": "stream",
     "text": [
      "Batch: 8/10\n"
     ]
    },
    {
     "name": "stderr",
     "output_type": "stream",
     "text": [
      "100%|██████████| 10/10 [00:00<00:00, 10.90it/s]\n"
     ]
    },
    {
     "name": "stdout",
     "output_type": "stream",
     "text": [
      "Batch: 9/10\n"
     ]
    },
    {
     "name": "stderr",
     "output_type": "stream",
     "text": [
      "100%|██████████| 10/10 [00:00<00:00, 11.72it/s]\n"
     ]
    },
    {
     "name": "stdout",
     "output_type": "stream",
     "text": [
      "Batch: 10/10\n"
     ]
    },
    {
     "name": "stderr",
     "output_type": "stream",
     "text": [
      "100%|██████████| 10/10 [00:00<00:00, 12.14it/s]\n"
     ]
    }
   ],
   "source": [
    "qbm3 = QBM(5, 2, rng_sd=0)\n",
    "qbm3.train(dataset, data_prob=dataset.get_prob, lr=0.1, l1w=1, l1b=0.1)"
   ]
  },
  {
   "cell_type": "code",
   "execution_count": 10,
   "metadata": {},
   "outputs": [
    {
     "data": {
      "text/plain": [
       "[<matplotlib.lines.Line2D at 0x7f8b101b1a00>]"
      ]
     },
     "execution_count": 10,
     "metadata": {},
     "output_type": "execute_result"
    },
    {
     "data": {
      "image/png": "[encoded data removed]",
      "text/plain": [
       "<Figure size 900x600 with 1 Axes>"
      ]
     },
     "metadata": {
      "needs_background": "light"
     },
     "output_type": "display_data"
    }
   ],
   "source": [
    "plt.figure(dpi=150)\n",
    "plt.title('KL divergence')\n",
    "plt.plot(qbm3.KL_history)"
   ]
  },
  {
   "cell_type": "code",
   "execution_count": 11,
   "metadata": {},
   "outputs": [],
   "source": [
    "results = qbm3.sample(qbm3.w, qbm3.b, qbm3.M, num=100, return_all_states=True)\n",
    "sample_states = [np.sign(s[:-2]) for s in results]"
   ]
  },
  {
   "cell_type": "code",
   "execution_count": 12,
   "metadata": {},
   "outputs": [
    {
     "data": {
      "text/plain": [
       "<BarContainer object of 5 artists>"
      ]
     },
     "execution_count": 12,
     "metadata": {},
     "output_type": "execute_result"
    },
    {
     "data": {
      "image/png": "[encoded data removed]",
      "text/plain": [
       "<Figure size 900x600 with 1 Axes>"
      ]
     },
     "metadata": {
      "needs_background": "light"
     },
     "output_type": "display_data"
    }
   ],
   "source": [
    "histo_cat = []\n",
    "histo_data = []\n",
    "for v in sample_states:\n",
    "    for s in histo_cat:\n",
    "        if  s == str(v):\n",
    "            histo_data[histo_cat.index(s)] += 1\n",
    "            break\n",
    "    else:\n",
    "        histo_cat.append(str(v))\n",
    "        histo_data.append(1)\n",
    "\n",
    "plt.figure(dpi=150)\n",
    "plt.title('QBM')\n",
    "plt.xticks(rotation=45, ha=\"right\", rotation_mode=\"anchor\")\n",
    "plt.bar(histo_cat, histo_data)"
   ]
  },
  {
   "cell_type": "markdown",
   "metadata": {},
   "source": [
    "# Quantum Boltzmann Machine"
   ]
  },
  {
   "cell_type": "code",
   "execution_count": 8,
   "metadata": {},
   "outputs": [],
   "source": [
    "class QBM:\n",
    "    \"\"\"\n",
    "    A general quantum Boltzmann machine class. No restrictions on the connection between nodes.\n",
    "    Variables are binary (\\pm 1).\n",
    "    \"\"\"\n",
    "    def __init__(self,\n",
    "                 n_vis,\n",
    "                 n_hid,\n",
    "                 sampler='QMC',\n",
    "                 Gamma=0.1,\n",
    "                 M=11,\n",
    "                 rng_sd=None,\n",
    "                 use_tqdm=True):\n",
    "\n",
    "        # if err_function not in {'mse', 'cosine'}:\n",
    "        #     raise ValueError('err_function should be either \\'mse\\' or \\'cosine\\'')\n",
    "\n",
    "        # progress bar\n",
    "        # self._use_tqdm = use_tqdm\n",
    "        # self._tqdm = None\n",
    "\n",
    "        if use_tqdm:\n",
    "            from tqdm import tqdm\n",
    "            self._tqdm = tqdm\n",
    "        else:\n",
    "            self._tqdm = lambda x: x\n",
    "\n",
    "        self.n_vis = n_vis\n",
    "        self.n_hid = n_hid\n",
    "        self.n = n_vis + n_hid\n",
    "        self.sampler = sampler\n",
    "        self.Gamma = Gamma\n",
    "        self.M = M\n",
    "\n",
    "        # Convention:\n",
    "        # varibales 0 to (n_vis - 1) represent visible nodes;\n",
    "        # variables n_vis to (n - 1) represent hidden nodes;\n",
    "        # energy = -w_v.dot(visible).dot(visible) - w_h.dot(hidden).dot(hidden) - 2 * w_vh.dot(visible).dot(hidden)\n",
    "        #        = -w.dot(nodes).dot(nodes) - b.dot(nodes)\n",
    "        # self.w_v = np.random.uniform(-1, 1, (self.n_vis, self.n_vis))\n",
    "        # self.w_v = 0.5 * (self.w_v + self.w_v.T)\n",
    "        # self.w_h = np.random.uniform(-1, 1, (self.n_hid, self.n_hid))\n",
    "        # self.w_h = 0.5 * (self.w_h + self.w_h.T)\n",
    "        # self.w_vh = np.random.uniform(-1, 1, (self.n_vis, self.n_hid))\n",
    "\n",
    "        np.random.seed(rng_sd)\n",
    "        self.w = np.random.uniform(-1, 1, (self.n, self.n))\n",
    "        self.w = 0.5 * (self.w + self.w.T) # symmetric\n",
    "        np.fill_diagonal(self.w, 0)\n",
    "        self.b = np.random.uniform(-1, 1, self.n)\n",
    "\n",
    "        self.n_epoch = 0\n",
    "\n",
    "    def get_weights(self):\n",
    "        return self.w, self.b\n",
    "\n",
    "    def set_weights(self, w, b):\n",
    "        self.w = 0.5 * (w + w.T)\n",
    "        self.b = b\n",
    "\n",
    "    def get_Z(self):\n",
    "        \"\"\"\n",
    "        Return the canonical partition function\n",
    "        \"\"\"\n",
    "        self.Z = np.sum(np.exp(-self.get_energies()))\n",
    "        return self.Z\n",
    "\n",
    "    def get_energy(self, state):\n",
    "        \"\"\"\n",
    "        Return the energy associated with a state\n",
    "        \"\"\"\n",
    "        return -self.w.dot(state).dot(state) - self.b.dot(state)\n",
    "\n",
    "    def get_energies(self):\n",
    "        self.energies = np.array([self.get_energy(2 * np.array(list(f'{f\"{s:b}\":0>{self.n}}'), dtype=int) - 1) for s in range(2**self.n)])\n",
    "        return self.energies\n",
    "\n",
    "    def get_KL(self, data_prob):\n",
    "        \"\"\"\n",
    "        Return the KL divergence given the data distribution.\n",
    "        The data distribution data_prob should be a funciton with data_prob(ind(state)) = Pr(v = state).\n",
    "        \"\"\"\n",
    "        KL = 0\n",
    "        for s in range(2**self.n_vis):\n",
    "            vis_state = 2 * np.array(list(f'{f\"{s:b}\":0>{self.n_vis}}'), dtype=int) - 1\n",
    "            if self.n_hid == 0:\n",
    "                model_prob = math.exp(-self.get_energy(vis_state)) / self.get_Z()\n",
    "            else:\n",
    "                model_prob = 0\n",
    "                for h in range(2**self.n_hid):\n",
    "                    full_state = 2 * np.array(list(f'{f\"{s:b}\":0>{self.n_vis}}' + f'{f\"{h:b}\":0>{self.n_hid}}'), dtype=int) - 1\n",
    "                    model_prob += math.exp(-self.get_energy(full_state))\n",
    "                model_prob /= self.get_Z()\n",
    "            KL += data_prob(vis_state) * math.log(data_prob(vis_state) / model_prob)\n",
    "        \n",
    "        return KL\n",
    "\n",
    "    def sample(self, w, h, M, num=10, Gamma0=5, T=0.05, return_all_states=False):\n",
    "        \"\"\"\n",
    "        Sample from the Boltzmann distribution of energy = -w.dot(state).dot(state) - h.dot(state) and average them out\n",
    "        \"\"\"\n",
    "        if self.sampler == 'QMC' or self.sampler == 'SQA':\n",
    "            from sqa import one_SQA_run\n",
    "            \n",
    "            trans_fld_sched = np.linspace(Gamma0, self.Gamma, num=100)\n",
    "\n",
    "            starargs = [(-w, -h, trans_fld_sched, M, T)] * num\n",
    "            results = pool.starmap(one_SQA_run, starargs)\n",
    "\n",
    "            # results = []\n",
    "            # for _ in range(num):\n",
    "            #     results.append(one_SQA_run(-w, -h, trans_fld_sched, M, T))\n",
    "            \n",
    "            if   return_all_states:\n",
    "                return [np.sum(np.reshape(np.array(s), (M, -1)), axis=0) / M for s in results]\n",
    "\n",
    "            return np.sum(np.reshape(np.array(results), (num * M, -1)), axis=0) / num / M\n",
    "\n",
    "    def train(self, training_dataset, epochs=1, batches=10, lr=0.1, lr_decay=0, l1w=0, l2w=0, l1b=0, l2b=0, data_prob=None, get_weights_history=True):\n",
    "        \"\"\"\n",
    "        Minimizes the upper bound of likelihood function.\n",
    "        Updates after each batch. Runs over the whole dataset after each epoch.\n",
    "\n",
    "        If data_prob is not None, this function also returns the history of KL divergence.\n",
    "\n",
    "        Parameters:\n",
    "            lr_decay: Learning rate decay rate after each epoch (lr -> lr * (1-lr_decay))\n",
    "            l1: Penalty strength associated with L1 regularization\n",
    "            l2: Penalty strength associated with L2 regularization\n",
    "        \"\"\"\n",
    "        # learning_curve_plot = []\n",
    "        batch_size = len(training_dataset) // batches\n",
    "        dataloader = DataLoader(dataset, batch_size=batch_size, shuffle=True, num_workers=0)\n",
    "\n",
    "        # if epoch_drop is None:\n",
    "        #     epoch_drop = epochs // 5\n",
    "\n",
    "        if data_prob is not None:\n",
    "            self.KL_history = [self.get_KL(data_prob)]\n",
    "\n",
    "        if get_weights_history:\n",
    "            self.weights_history = [self.get_weights()]\n",
    "\n",
    "        # for batch in training_data.shuffle(len(training_data), reshuffle_each_iteration=True).repeat(epochs).batch(batch_size):\n",
    "        for batch_id, batch in enumerate(dataloader):\n",
    "            print(f'Batch: {batch_id + 1}/{batches}')\n",
    "            pos_phase_w = np.zeros((self.n, self.n))\n",
    "            pos_phase_b = np.zeros(self.n)\n",
    "            for data in self._tqdm(batch): # parallelizable\n",
    "                # offset = self.w[:self.n_vis, :self.n_vis].dot(data).dot(data) + self.b[:self.n_vis].dot(data)\n",
    "                b_eff = 2 * self.w[self.n_vis:, :self.n_vis].dot(data) + self.b[self.n_vis:]\n",
    "                J_eff = self.w[self.n_vis:, self.n_vis:]\n",
    "\n",
    "                samp = np.append(data, self.sample(J_eff, b_eff, self.M))\n",
    "                outer_avg = np.outer(samp, samp)\n",
    "                np.fill_diagonal(outer_avg, 0)\n",
    "\n",
    "                pos_phase_w += outer_avg / batch_size\n",
    "                pos_phase_b += samp / batch_size\n",
    "                \n",
    "            samp = self.sample(self.w, self.b, self.M)\n",
    "            outer_avg = np.outer(samp, samp)\n",
    "            np.fill_diagonal(outer_avg, 0)\n",
    "            neg_phase_w = outer_avg\n",
    "            neg_phase_b = samp\n",
    "\n",
    "            self.w += lr * (pos_phase_w - neg_phase_w - 2 * l2w * self.w - l1w * (2 * np.heaviside(self.w, 0.5) - 1))\n",
    "            self.b += lr * (pos_phase_b - neg_phase_b - 2 * l2b * self.b - l1b * (2 * np.heaviside(self.b, 0.5) - 1))\n",
    "\n",
    "            if data_prob is not None:\n",
    "                self.KL_history.append(self.get_KL(data_prob))\n",
    "\n",
    "            if get_weights_history:\n",
    "                self.weights_history.append(self.get_weights())\n",
    "\n",
    "            # if epoch % epoch_drop == (epoch_drop - 1):\n",
    "                \n",
    "            #     sample_v = v\n",
    "            #     prob_sample_h = sigmoid(self.hidden_bias + np.dot(v, self.w))\n",
    "            #     sample_h = (np.random.rand(len(self.hidden_bias)) < prob_sample_h).astype(int)\n",
    "            #     prob_sample_v_out = sigmoid(self.visible_bias + np.dot(sample_h, self.w.T))\n",
    "            #     sample_output = (np.random.rand(len(self.visible_bias)) < prob_sample_v_out).astype(int)\n",
    "            #     learning_curve_plot.append(np.sum((np.array(v) - np.array(sample_output)) ** 2))\n",
    "\n",
    "            #learning_rate_decay\n",
    "            lr *= (1 - lr_decay)\n",
    "            # print(\"lr = \", lr)\n",
    "\n",
    "        # plt.figure()\n",
    "        # plt.plot(learning_curve_plot)\n",
    "        # plt.xlabel('epoch')\n",
    "        # plt.ylabel('normalised MSE')\n",
    "        # plt.show()\n",
    "\n",
    "    # def generate(self, test_img=None): # just use sample\n",
    "    #     sample_v = []\n",
    "    #     if test_img == None:\n",
    "    #         sample_v = (np.random.rand(len(self.visible_bias)) < self.visible_bias).astype(int)\n",
    "    #         # print(\"sample_v: \", sample_v)\n",
    "    #         # print(\"visible_bias: \", self.visible_bias)\n",
    "    #     else:\n",
    "    #         sample_v = test_img\n",
    "    #     prob_h = sigmoid(self.hidden_bias + np.dot(sample_v, self.w))\n",
    "    #     sample_h = (np.random.rand(len(self.hidden_bias)) < prob_h).astype(int)\n",
    "\n",
    "    #     prob_v_out = sigmoid(self.visible_bias + np.dot(sample_h, self.w.T))\n",
    "    #     v_out = (np.random.rand(len(self.visible_bias)) < prob_v_out).astype(int)\n",
    "\n",
    "    #     return v_out\n",
    "\n",
    "    # def evaluate(self, result, test_img=None):\n",
    "    #     # sample_output = self.generate(test_img=test_img)\n",
    "    #     min_sum = 1000000\n",
    "    #     for pic in self.result_picture_tab:\n",
    "    #         new_sum = np.sum((np.array(result) - np.array(pic)) ** 2)\n",
    "    #         if new_sum < min_sum:\n",
    "    #             min_sum = new_sum\n",
    "\n",
    "    #     return min_sum"
   ]
  },
  {
   "cell_type": "code",
   "execution_count": 99,
   "metadata": {},
   "outputs": [],
   "source": [
    "class SRQBM(QBM): # in construction\n",
    "    \"\"\"\n",
    "    A semi-restricted quantum Boltzmann machine subclass. Connections in the hidden layer are forbidden.\n",
    "    \"\"\"\n",
    "    def __init__(self, *args, **kwargs):\n",
    "        super().__init__(*args, **kwargs)\n",
    "        self.w[self.n_vis:, self.n_vis:] = 0 # w in the hidden layer is forbidden\n",
    "\n",
    "    def train(self, training_dataset, epochs=1, batches=10, lr=0.11, lr_decay=0.1, epoch_drop=None):\n",
    "        \"\"\"\n",
    "        Minimize the upper bound of likelihood function.\n",
    "        Updates after each batch. Runs over the whole dataset after each epoch.\n",
    "        \"\"\"\n",
    "        # learning_curve_plot = []\n",
    "        batch_size = len(training_dataset) // batches\n",
    "        dataloader = DataLoader(dataset, batch_size=batch_size, shuffle=True, num_workers=0)\n",
    "\n",
    "        # if epoch_drop is None:\n",
    "        #     epoch_drop = epochs // 5\n",
    "\n",
    "        for batch in self._tqdm(dataloader):\n",
    "            pos_phase_w = np.zeros((self.n, self.n))\n",
    "            pos_phase_b = np.zeros(self.n)\n",
    "            for data in batch: # parallelizable\n",
    "                b_eff = 2 * self.w[self.n_vis:, :self.n_vis].dot(data) + self.b[self.n_vis:] # for hidden units\n",
    "                D = np.sqrt(self.Gamma**2 + b_eff**2)\n",
    "\n",
    "                avg = np.append(data, b_eff/D * np.tanh(D))\n",
    "                outer_avg = np.outer(avg, avg)\n",
    "                np.fill_diagonal(outer_avg, 0)\n",
    "\n",
    "                pos_phase_w += outer_avg / batch_size\n",
    "                pos_phase_b += avg / batch_size\n",
    "                \n",
    "            samp = self.sample(self.w, self.b)\n",
    "            outer_avg = np.outer(samp, samp)\n",
    "            np.fill_diagonal(outer_avg, 0)\n",
    "            neg_phase_w = outer_avg\n",
    "            neg_phase_b = samp\n",
    "\n",
    "            self.w += lr * (pos_phase_w - neg_phase_w)\n",
    "            self.b += lr * (pos_phase_b - neg_phase_b)\n",
    "            self.w[self.n_vis:, self.n_vis:] = 0 # w in the hidden layer is forbidden\n",
    "\n",
    "            # if epoch % epoch_drop == (epoch_drop - 1):\n",
    "                \n",
    "            #     sample_v = v\n",
    "            #     prob_sample_h = sigmoid(self.hidden_bias + np.dot(v, self.w))\n",
    "            #     sample_h = (np.random.rand(len(self.hidden_bias)) < prob_sample_h).astype(int)\n",
    "            #     prob_sample_v_out = sigmoid(self.visible_bias + np.dot(sample_h, self.w.T))\n",
    "            #     sample_output = (np.random.rand(len(self.visible_bias)) < prob_sample_v_out).astype(int)\n",
    "            #     learning_curve_plot.append(np.sum((np.array(v) - np.array(sample_output)) ** 2))\n",
    "\n",
    "            #     #learning_rate_decay\n",
    "            #     lr *= (1 - lr_decay)\n",
    "            #     print(\"lr = \", lr)\n",
    "\n",
    "        # plt.figure()\n",
    "        # plt.plot(learning_curve_plot)\n",
    "        # plt.xlabel('epoch')\n",
    "        # plt.ylabel('normalised MSE')\n",
    "        # plt.show()\n",
    "        return\n",
    "\n",
    "    # def generate(self, test_img=None):\n",
    "    #     sample_v = []\n",
    "    #     if test_img == None:\n",
    "    #         sample_v = (np.random.rand(len(self.visible_bias)) < self.visible_bias).astype(int)\n",
    "    #         # print(\"sample_v: \", sample_v)\n",
    "    #         # print(\"visible_bias: \", self.visible_bias)\n",
    "    #     else:\n",
    "    #         sample_v = test_img\n",
    "    #     prob_h = sigmoid(self.hidden_bias + np.dot(sample_v, self.w))\n",
    "    #     sample_h = (np.random.rand(len(self.hidden_bias)) < prob_h).astype(int)\n",
    "\n",
    "    #     prob_v_out = sigmoid(self.visible_bias + np.dot(sample_h, self.w.T))\n",
    "    #     v_out = (np.random.rand(len(self.visible_bias)) < prob_v_out).astype(int)\n",
    "\n",
    "    #     return v_out\n",
    "\n",
    "    # def evaluate(self, result, test_img=None):\n",
    "    #     # sample_output = self.generate(test_img=test_img)\n",
    "    #     min_sum = 1000000\n",
    "    #     for pic in self.result_picture_tab:\n",
    "    #         new_sum = np.sum((np.array(result) - np.array(pic)) ** 2)\n",
    "    #         if new_sum < min_sum:\n",
    "    #             min_sum = new_sum\n",
    "\n",
    "    #     return min_sum"
   ]
  },
  {
   "cell_type": "markdown",
   "metadata": {},
   "source": [
    "def sigmoid(x):\n",
    "    result = 1 / (1 + np.exp(-x))\n",
    "    return result\n",
    "\n",
    "class classicalRBM:\n",
    "    def __init__(self,\n",
    "                 n_vis,\n",
    "                 n_hid,\n",
    "                 err_function='mse',\n",
    "                 use_tqdm=True,\n",
    "                 tqdm=None):\n",
    "\n",
    "        if err_function not in {'mse', 'cosine'}:\n",
    "            raise ValueError('err_function should be either \\'mse\\' or \\'cosine\\'')\n",
    "\n",
    "        self._use_tqdm = use_tqdm\n",
    "        self._tqdm = None\n",
    "\n",
    "        if use_tqdm or tqdm is not None:\n",
    "            from tqdm import tqdm\n",
    "            self._tqdm = tqdm\n",
    "\n",
    "        self.n_vis = n_vis\n",
    "        self.n_hid = n_hid\n",
    "\n",
    "        self.w = (np.random.rand(self.n_vis, self.n_hid) * 2 - 1) * 1\n",
    "        self.visible_bias = (np.random.rand(self.n_vis) * 2 - 1) * 1\n",
    "        self.hidden_bias = (np.random.rand(self.n_hid) * 2 - 1) * 1\n",
    "\n",
    "        self.n_epoch = 0\n",
    "\n",
    "    def get_weights(self):\n",
    "        return self.w, \\\n",
    "               self.visible_bias, \\\n",
    "               self.hidden_bias\n",
    "\n",
    "    def set_weights(self, w, visible_bias, hidden_bias):\n",
    "        self.w = w\n",
    "        self.visible_bias = visible_bias\n",
    "        self.hidden_bias = hidden_bias\n",
    "\n",
    "    def get_Z(self):\n",
    "        Z = np.sum(np.exp(-1 * self.energies))\n",
    "        self.Z = Z\n",
    "        return Z\n",
    "\n",
    "    def train(self, training_data, len_x=1, len_y=1, epochs=1, lr=0.11, lr_decay=0.1, epoch_drop = None):\n",
    "        \"\"\"\n",
    "            maximize the product of probabilities assigned to some training set V\n",
    "            optimize the weight vector\n",
    "\n",
    "            single-step contrastive divergence (CD-1):\n",
    "            1. Take a training sample v,\n",
    "                compute the probabilities of the hidden units and\n",
    "                sample a hidden activation vector h from this probability distribution.\n",
    "            2. Compute the outer product of v and h and call this the positive gradient.\n",
    "            3. From h, sample a reconstruction v' of the visible units,\n",
    "                then resample the hidden activations h' from this. (Gibbs sampling step)\n",
    "            4. Compute the outer product of v' and h' and call this the negative gradient.\n",
    "            5. Let the update to the weight matrix W be the positive gradient minus the negative gradient,\n",
    "                times some learning rate\n",
    "            6. Update the biases a and b analogously: a=epsilon (v-v'), b=epsilon (h-h')\n",
    "\n",
    "            https://en.wikipedia.org/wiki/Restricted_Boltzmann_machine\n",
    "        \"\"\"\n",
    "        learning_curve_plot = []\n",
    "        if epoch_drop == None:\n",
    "            epoch_drop = epochs / 5\n",
    "\n",
    "        for epoch in self.tqdm(range(epochs)):\n",
    "            # single step\n",
    "            # print(\"Training data len\", len(training_data))\n",
    "\n",
    "            # 1\n",
    "            # 1.1 Take a training sample v\n",
    "            random_selected_training_data_idx = epoch % len(training_data)\n",
    "            # print(\"selected_training_data_idx: \", random_selected_training_data_idx)\n",
    "\n",
    "            v = training_data[random_selected_training_data_idx]\n",
    "            # print(\"v: \", v)\n",
    "\n",
    "            # # 1.2 compute the probabilities of the hidden units\n",
    "            prob_h = sigmoid(self.hidden_bias + np.dot(v, self.w))\n",
    "\n",
    "            # h należy teraz wysamplować z tych wartości prawdopodobieństw\n",
    "            #klasycznie mogę to zrobić tak:\n",
    "            # print(\"self.hidden_bias: \", self.hidden_bias)\n",
    "            # print(\"np.dot(v, self.w): \", np.dot(v, self.w))\n",
    "            # print(\"self.hidden_bias + np.sum(np.dot(v, self.w)): \", self.hidden_bias + np.dot(v, self.w))\n",
    "            # print(\"prob_h: \", prob_h)\n",
    "            h = (np.random.rand(len(self.hidden_bias)) < prob_h).astype(int)\n",
    "            # print(\"h: \", h)\n",
    "\n",
    "            # 2 Compute the outer product of v and h and call this the positive gradient.\n",
    "            pos_grad = np.outer(v, h)\n",
    "            # print(\"pos_grad:\", pos_grad)\n",
    "\n",
    "            # 3\n",
    "            # 3.1 From h, sample a reconstruction v' of the visible units,\n",
    "            prob_v_prim = sigmoid(self.visible_bias + np.dot(h, self.w.T))\n",
    "            #znów klasycznie\n",
    "            v_prim = (np.random.rand(len(self.visible_bias)) < prob_v_prim).astype(int)\n",
    "            # print(\"v_prim: \", v_prim)\n",
    "\n",
    "            # 3.2 then resample the hidden activations h' from this. (Gibbs sampling step)\n",
    "            prob_h_prim = sigmoid(self.hidden_bias + np.dot(v_prim, self.w))\n",
    "            # h należy teraz wysamplować z tych wartości prawdopodobieństw\n",
    "            # klasycznie mogę to zrobić tak:\n",
    "            h_prim = (np.random.rand(len(self.hidden_bias)) < prob_h_prim).astype(int)\n",
    "            # print(\"h_prim: \", h_prim)\n",
    "\n",
    "            # 4 Compute the outer product of v' and h' and call this the negative gradient.\n",
    "            neg_grad = np.outer(v_prim, h_prim)\n",
    "            # print(\"neg_grad:\", neg_grad)\n",
    "\n",
    "            # 5 Let the update to the weight matrix W be the positive gradient minus the negative gradient,\n",
    "            #        times some learning rate\n",
    "            self.w += lr * (pos_grad - neg_grad)\n",
    "            # print(\"w: \", self.w)\n",
    "\n",
    "            # 6 Update the biases a and b analogously: a=epsilon (v-v'), b=epsilon (h-h')\n",
    "            self.visible_bias += lr * (np.array(v) - np.array(v_prim))\n",
    "            self.hidden_bias += lr * (np.array(h) - np.array(h_prim))\n",
    "            # print(\"visible_bias: \", self.visible_bias)\n",
    "            # print(\"hidden_bias: \", self.hidden_bias)\n",
    "\n",
    "            if epoch % epoch_drop == (epoch_drop - 1):\n",
    "                # krzywa uczenia\n",
    "                sample_v = v\n",
    "                prob_sample_h = sigmoid(self.hidden_bias + np.dot(v, self.w))\n",
    "                sample_h = (np.random.rand(len(self.hidden_bias)) < prob_sample_h).astype(int)\n",
    "                prob_sample_v_out = sigmoid(self.visible_bias + np.dot(sample_h, self.w.T))\n",
    "                sample_output = (np.random.rand(len(self.visible_bias)) < prob_sample_v_out).astype(int)\n",
    "                learning_curve_plot.append(np.sum((np.array(v) - np.array(sample_output)) ** 2))\n",
    "\n",
    "                #learning_rate_decay\n",
    "                lr *= (1 - lr_decay)\n",
    "                print(\"lr = \", lr)\n",
    "\n",
    "\n",
    "        # koniec\n",
    "        plt.figure()\n",
    "        plt.plot(learning_curve_plot)\n",
    "        plt.xlabel('epoch')\n",
    "        plt.ylabel('normalised MSE')\n",
    "        plt.show()\n",
    "        return\n",
    "\n",
    "    def generate(self, test_img=None):\n",
    "        sample_v = []\n",
    "        if test_img == None:\n",
    "            sample_v = (np.random.rand(len(self.visible_bias)) < self.visible_bias).astype(int)\n",
    "            # print(\"sample_v: \", sample_v)\n",
    "            # print(\"visible_bias: \", self.visible_bias)\n",
    "        else:\n",
    "            sample_v = test_img\n",
    "        prob_h = sigmoid(self.hidden_bias + np.dot(sample_v, self.w))\n",
    "        sample_h = (np.random.rand(len(self.hidden_bias)) < prob_h).astype(int)\n",
    "\n",
    "        prob_v_out = sigmoid(self.visible_bias + np.dot(sample_h, self.w.T))\n",
    "        v_out = (np.random.rand(len(self.visible_bias)) < prob_v_out).astype(int)\n",
    "\n",
    "        return v_out\n",
    "\n",
    "    def evaluate(self, result, test_img=None):\n",
    "        # sample_output = self.generate(test_img=test_img)\n",
    "        min_sum = 1000000\n",
    "        for pic in self.result_picture_tab:\n",
    "            new_sum = np.sum((np.array(result) - np.array(pic)) ** 2)\n",
    "            if new_sum < min_sum:\n",
    "                min_sum = new_sum\n",
    "\n",
    "        return min_sum"
   ]
  }
 ],
 "metadata": {
  "interpreter": {
   "hash": "04a20cc0f25f2654a5fc5715c026c4c293afbc25926c593c301cab56769943bf"
  },
  "kernelspec": {
   "display_name": "Python [conda env:ml]",
   "language": "python",
   "name": "conda-env-ml-py"
  },
  "language_info": {
   "codemirror_mode": {
    "name": "ipython",
    "version": 3
   },
   "file_extension": ".py",
   "mimetype": "text/x-python",
   "name": "python",
   "nbconvert_exporter": "python",
   "pygments_lexer": "ipython3",
   "version": "3.9.7"
  },
  "orig_nbformat": 4
 },
 "nbformat": 4,
 "nbformat_minor": 2
}
